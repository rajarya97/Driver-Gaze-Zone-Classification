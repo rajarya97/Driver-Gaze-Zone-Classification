{
  "nbformat": 4,
  "nbformat_minor": 0,
  "metadata": {
    "colab": {
      "name": "driver gaze detection",
      "provenance": [],
      "collapsed_sections": []
    },
    "kernelspec": {
      "name": "python3",
      "display_name": "Python 3"
    },
    "language_info": {
      "name": "python"
    },
    "accelerator": "GPU"
  },
  "cells": [
    {
      "cell_type": "markdown",
      "source": [
        "##Mounting google drive"
      ],
      "metadata": {
        "id": "WAqxaN12BNNB"
      }
    },
    {
      "cell_type": "code",
      "execution_count": 1,
      "metadata": {
        "colab": {
          "base_uri": "https://localhost:8080/"
        },
        "id": "1hob4XuPcfAl",
        "outputId": "255d415f-b535-424d-ec8f-13a38f8f025b"
      },
      "outputs": [
        {
          "output_type": "stream",
          "name": "stdout",
          "text": [
            "Mounted at /content/drive\n"
          ]
        }
      ],
      "source": [
        "from google.colab import drive\n",
        "drive.mount('/content/drive')"
      ]
    },
    {
      "cell_type": "markdown",
      "source": [
        "##Importing neccesary library"
      ],
      "metadata": {
        "id": "yCPMmrvhBRzz"
      }
    },
    {
      "cell_type": "code",
      "source": [
        "import numpy as np\n",
        "import keras\n",
        "import os\n",
        "import itertools\n",
        "import cv2\n",
        "import matplotlib.pyplot as plt\n",
        "import time\n",
        "import pandas as pd\n",
        "from keras import backend as K\n",
        "from keras.models import Model\n",
        "from keras.layers import Activation\n",
        "from keras.layers.core import Dense, Flatten\n",
        "from tensorflow.keras.optimizers import Adam\n",
        "from keras.metrics import categorical_crossentropy\n",
        "from keras.preprocessing.image import ImageDataGenerator\n",
        "from tensorflow.keras.layers import BatchNormalization\n",
        "from keras.layers.core import Dropout\n",
        "from keras.layers.convolutional import *\n",
        "from keras.applications.inception_v3 import InceptionV3\n",
        "from keras.applications.inception_v3 import preprocess_input\n",
        "from keras.applications.inception_v3 import decode_predictions\n",
        "from sklearn.metrics import classification_report\n",
        "from keras.models import model_from_json\n",
        "%matplotlib inline"
      ],
      "metadata": {
        "id": "FOK1cjmDd9m-"
      },
      "execution_count": 2,
      "outputs": []
    },
    {
      "cell_type": "code",
      "source": [
        "face_cascade = cv2.CascadeClassifier('/content/drive/MyDrive/Gaze dataset/haarcascade_frontalface_default.xml')\n",
        "eye_cascade = cv2.CascadeClassifier('/content/drive/MyDrive/Gaze dataset/haarcascade_eye.xml')"
      ],
      "metadata": {
        "id": "ZwGrDe7lVjdz"
      },
      "execution_count": 4,
      "outputs": []
    },
    {
      "cell_type": "code",
      "source": [
        "import glob\n",
        "import os\n",
        "Images = os.listdir(\"/content/drive/MyDrive/Gaze_dataset/test\")\n",
        "Images.sort()"
      ],
      "metadata": {
        "id": "deTCrhOpczvs"
      },
      "execution_count": 15,
      "outputs": []
    },
    {
      "cell_type": "code",
      "source": [
        "os.listdir(\"/content/drive/MyDrive/Gaze_dataset/test\")"
      ],
      "metadata": {
        "id": "1veIuGfeJYaU"
      },
      "execution_count": null,
      "outputs": []
    },
    {
      "cell_type": "code",
      "source": [
        "!ls"
      ],
      "metadata": {
        "colab": {
          "base_uri": "https://localhost:8080/"
        },
        "id": "UcIqlKScOfVb",
        "outputId": "8663ffb1-d4f5-44f8-fe01-b0f42fb79ddb"
      },
      "execution_count": 23,
      "outputs": [
        {
          "output_type": "stream",
          "name": "stdout",
          "text": [
            "haarcascade_eye.xml\t\t       test\n",
            "haarcascade_frontalface_default.xml    test_eye_cropped\n",
            "sample_submission.csv\t\t       train\n",
            "shape_predictor_68_face_landmarks.dat\n"
          ]
        }
      ]
    },
    {
      "cell_type": "code",
      "source": [
        "import dlib"
      ],
      "metadata": {
        "id": "s4s8ZUsxJ--C"
      },
      "execution_count": 25,
      "outputs": []
    },
    {
      "cell_type": "code",
      "source": [
        "def shape_to_np(shape, dtype=\"int\"):\n",
        "    coords = np.zeros((68, 2), dtype=dtype)\n",
        "    for i in range(0, 68):\n",
        "        coords[i] = (shape.part(i).x, shape.part(i).y)\n",
        "    return coords\n"
      ],
      "metadata": {
        "id": "rnaig-C4urVW"
      },
      "execution_count": 3,
      "outputs": []
    },
    {
      "cell_type": "code",
      "source": [
        "not_detected = []\n",
        "for f in Images:\n",
        "  img = cv2.imread('./test/'+f)\n",
        "  gray = cv2.cvtColor(img, cv2.COLOR_BGR2GRAY)\n",
        "  detector = dlib.get_frontal_face_detector()\n",
        "  rects = detector(gray, 1)\n",
        "  predictor = dlib.shape_predictor('/content/drive/MyDrive/Gaze_dataset/shape_predictor_68_face_landmarks.dat')\n",
        "  for (i, rect) in enumerate(rects):\n",
        "      shape = predictor(gray, rect)\n",
        "      shape = shape_to_np(shape)\n",
        "  cv2.imwrite('/content/Gaze_dataset/test_eye_cropped/'+f.split(\"/\")[-1],img[shape[37][1]-15:shape[40][1]+15,shape[37][0]-15:shape[40][0]+15])"
      ],
      "metadata": {
        "id": "EBCteV-VVjZo"
      },
      "execution_count": 27,
      "outputs": []
    },
    {
      "cell_type": "code",
      "source": [
        "import dlib"
      ],
      "metadata": {
        "id": "J_cMzTZkZIks"
      },
      "execution_count": 53,
      "outputs": []
    },
    {
      "cell_type": "code",
      "source": [
        "data_dir = '/content/drive/MyDrive/Gaze_dataset/train'\n",
        "\n",
        "\n",
        "BATCH_SIZE = 32\n",
        "# IMG_SIZE = (256, 256, 3)\n",
        "\n",
        "train_dataset = tf.keras.utils.image_dataset_from_directory(data_dir,\n",
        "                                                            shuffle=True,\n",
        "                                                            batch_size=BATCH_SIZE,\n",
        "                                                            \n",
        "                                                            )\n",
        "val_ds = tf.keras.utils.image_dataset_from_directory(\n",
        "  data_dir,\n",
        "  validation_split=0.2,\n",
        "  subset=\"validation\",\n",
        "  seed=123,\n",
        "  batch_size=8)\n",
        "\n",
        "\n",
        "\n",
        "normalization_layer = tf.keras.layers.Rescaling(1./255)\n",
        "normalized_ds = train_dataset.map(lambda x, y: (normalization_layer(x), y))\n",
        "image_batch, labels_batch = next(iter(normalized_ds))\n",
        "\n",
        "AUTOTUNE = tf.data.AUTOTUNE\n",
        "\n",
        "train_ds = train_dataset.cache().prefetch(buffer_size=AUTOTUNE)\n",
        "val_ds = val_ds.cache().prefetch(buffer_size=AUTOTUNE)\n"
      ],
      "metadata": {
        "colab": {
          "base_uri": "https://localhost:8080/"
        },
        "id": "FUwwP16Nfqbv",
        "outputId": "0f09f5fd-83da-4d5f-ab4d-1c0d50484286"
      },
      "execution_count": 31,
      "outputs": [
        {
          "output_type": "stream",
          "name": "stdout",
          "text": [
            "Found 2500 files belonging to 5 classes.\n",
            "Found 2500 files belonging to 5 classes.\n",
            "Using 500 files for validation.\n"
          ]
        }
      ]
    },
    {
      "cell_type": "code",
      "source": [
        "!ls"
      ],
      "metadata": {
        "colab": {
          "base_uri": "https://localhost:8080/"
        },
        "id": "R_Aq9CDXOes_",
        "outputId": "cbe1a1a7-9515-4726-9c73-b95aa5288116"
      },
      "execution_count": 34,
      "outputs": [
        {
          "output_type": "stream",
          "name": "stdout",
          "text": [
            "haarcascade_eye.xml\t\t       test\n",
            "haarcascade_frontalface_default.xml    test_eye_cropped\n",
            "sample_submission.csv\t\t       train\n",
            "shape_predictor_68_face_landmarks.dat\n"
          ]
        }
      ]
    },
    {
      "cell_type": "code",
      "source": [
        "train_path = 'train'\n",
        "test_path  = 'test'\n",
        "print(os.listdir(train_path))\n",
        "print(os.listdir(test_path))"
      ],
      "metadata": {
        "colab": {
          "base_uri": "https://localhost:8080/"
        },
        "id": "YPLttcNXgbvM",
        "outputId": "64ce4eaa-07aa-461a-a0ba-df5555286f1c"
      },
      "execution_count": 35,
      "outputs": [
        {
          "output_type": "stream",
          "name": "stdout",
          "text": [
            "['.DS_Store', 'Left_wing_mirror', 'Centerstack', 'Rearview_mirror', 'Forward', 'Right_wing_mirror']\n",
            "['409.jpg', '376.jpg', '160.jpg', '440.jpg', '101.jpg', '486.jpg', '105.jpg', '357.jpg', '39.jpg', '103.jpg', '237.jpg', '370.jpg', '7.jpg', '477.jpg', '210.jpg', '433.jpg', '280.jpg', '311.jpg', '96.jpg', '362.jpg', '365.jpg', '107.jpg', '299.jpg', '399.jpg', '448.jpg', '6.jpg', '176.jpg', '312.jpg', '507.jpg', '415.jpg', '79.jpg', '21.jpg', '218.jpg', '452.jpg', '439.jpg', '488.jpg', '130.jpg', '346.jpg', '288.jpg', '165.jpg', '494.jpg', '508.jpg', '161.jpg', '476.jpg', '297.jpg', '178.jpg', '135.jpg', '54.jpg', '113.jpg', '364.jpg', '389.jpg', '220.jpg', '447.jpg', '221.jpg', '202.jpg', '468.jpg', '56.jpg', '475.jpg', '344.jpg', '147.jpg', '154.jpg', '32.jpg', '317.jpg', '506.jpg', '360.jpg', '62.jpg', '72.jpg', '145.jpg', '76.jpg', '173.jpg', '314.jpg', '236.jpg', '73.jpg', '195.jpg', '175.jpg', '108.jpg', '382.jpg', '259.jpg', '197.jpg', '235.jpg', '478.jpg', '345.jpg', '226.jpg', '421.jpg', '206.jpg', '248.jpg', '31.jpg', '37.jpg', '190.jpg', '242.jpg', '451.jpg', '152.jpg', '287.jpg', '191.jpg', '204.jpg', '141.jpg', '484.jpg', '361.jpg', '19.jpg', '487.jpg', '150.jpg', '427.jpg', '179.jpg', '215.jpg', '40.jpg', '349.jpg', '186.jpg', '14.jpg', '348.jpg', '303.jpg', '157.jpg', '153.jpg', '300.jpg', '100.jpg', '262.jpg', '222.jpg', '442.jpg', '350.jpg', '338.jpg', '482.jpg', '434.jpg', '83.jpg', '293.jpg', '85.jpg', '117.jpg', '327.jpg', '28.jpg', '340.jpg', '358.jpg', '12.jpg', '91.jpg', '420.jpg', '400.jpg', '143.jpg', '491.jpg', '239.jpg', '341.jpg', '444.jpg', '88.jpg', '44.jpg', '43.jpg', '456.jpg', '15.jpg', '435.jpg', '46.jpg', '49.jpg', '352.jpg', '329.jpg', '139.jpg', '377.jpg', '180.jpg', '41.jpg', '111.jpg', '212.jpg', '99.jpg', '501.jpg', '123.jpg', '388.jpg', '493.jpg', '126.jpg', '26.jpg', '286.jpg', '81.jpg', '424.jpg', '394.jpg', '270.jpg', '109.jpg', '74.jpg', '334.jpg', '131.jpg', '27.jpg', '264.jpg', '292.jpg', '387.jpg', '185.jpg', '268.jpg', '125.jpg', '34.jpg', '398.jpg', '401.jpg', '30.jpg', '110.jpg', '441.jpg', '238.jpg', '229.jpg', '450.jpg', '241.jpg', '205.jpg', '306.jpg', '138.jpg', '324.jpg', '263.jpg', '247.jpg', '192.jpg', '87.jpg', '170.jpg', '328.jpg', '455.jpg', '272.jpg', '61.jpg', '283.jpg', '119.jpg', '151.jpg', '244.jpg', '112.jpg', '395.jpg', '51.jpg', '203.jpg', '214.jpg', '422.jpg', '502.jpg', '295.jpg', '281.jpg', '168.jpg', '223.jpg', '171.jpg', '133.jpg', '169.jpg', '413.jpg', '381.jpg', '50.jpg', '308.jpg', '182.jpg', '137.jpg', '257.jpg', '4.jpg', '144.jpg', '129.jpg', '483.jpg', '359.jpg', '500.jpg', '121.jpg', '97.jpg', '337.jpg', '495.jpg', '167.jpg', '355.jpg', '472.jpg', '45.jpg', '240.jpg', '158.jpg', '356.jpg', '383.jpg', '307.jpg', '230.jpg', '208.jpg', '92.jpg', '335.jpg', '64.jpg', '426.jpg', '274.jpg', '228.jpg', '47.jpg', '77.jpg', '418.jpg', '373.jpg', '304.jpg', '437.jpg', '465.jpg', '22.jpg', '118.jpg', '459.jpg', '316.jpg', '177.jpg', '198.jpg', '354.jpg', '309.jpg', '69.jpg', '24.jpg', '436.jpg', '446.jpg', '503.jpg', '98.jpg', '372.jpg', '275.jpg', '136.jpg', '217.jpg', '148.jpg', '174.jpg', '18.jpg', '84.jpg', '252.jpg', '122.jpg', '462.jpg', '209.jpg', '17.jpg', '66.jpg', '339.jpg', '296.jpg', '102.jpg', '55.jpg', '25.jpg', '470.jpg', '333.jpg', '189.jpg', '279.jpg', '497.jpg', '57.jpg', '323.jpg', '42.jpg', '425.jpg', '490.jpg', '232.jpg', '467.jpg', '290.jpg', '258.jpg', '390.jpg', '331.jpg', '485.jpg', '58.jpg', '471.jpg', '402.jpg', '310.jpg', '404.jpg', '330.jpg', '245.jpg', '313.jpg', '412.jpg', '20.jpg', '504.jpg', '326.jpg', '271.jpg', '213.jpg', '438.jpg', '193.jpg', '423.jpg', '124.jpg', '132.jpg', '469.jpg', '187.jpg', '397.jpg', '403.jpg', '273.jpg', '443.jpg', '89.jpg', '449.jpg', '134.jpg', '282.jpg', '8.jpg', '429.jpg', '159.jpg', '211.jpg', '253.jpg', '386.jpg', '347.jpg', '234.jpg', '315.jpg', '249.jpg', '417.jpg', '251.jpg', '368.jpg', '199.jpg', '33.jpg', '325.jpg', '305.jpg', '408.jpg', '380.jpg', '227.jpg', '342.jpg', '10.jpg', '406.jpg', '277.jpg', '366.jpg', '163.jpg', '391.jpg', '35.jpg', '351.jpg', '266.jpg', '396.jpg', '453.jpg', '460.jpg', '378.jpg', '278.jpg', '231.jpg', '464.jpg', '367.jpg', '499.jpg', '284.jpg', '219.jpg', '194.jpg', '254.jpg', '155.jpg', '52.jpg', '374.jpg', '156.jpg', '432.jpg', '379.jpg', '82.jpg', '353.jpg', '120.jpg', '78.jpg', '410.jpg', '291.jpg', '224.jpg', '461.jpg', '255.jpg', '53.jpg', '29.jpg', '166.jpg', '480.jpg', '385.jpg', '95.jpg', '419.jpg', '261.jpg', '492.jpg', '454.jpg', '200.jpg', '65.jpg', '416.jpg', '414.jpg', '162.jpg', '318.jpg', '196.jpg', '233.jpg', '489.jpg', '332.jpg', '146.jpg', '505.jpg', '479.jpg', '75.jpg', '319.jpg', '336.jpg', '509.jpg', '127.jpg', '184.jpg', '411.jpg', '94.jpg', '294.jpg', '63.jpg', '320.jpg', '463.jpg', '59.jpg', '269.jpg', '71.jpg', '3.jpg', '5.jpg', '38.jpg', '428.jpg', '23.jpg', '116.jpg', '481.jpg', '260.jpg', '13.jpg', '164.jpg', '256.jpg', '458.jpg', '183.jpg', '70.jpg', '128.jpg', '466.jpg', '104.jpg', '115.jpg', '301.jpg', '188.jpg', '405.jpg', '321.jpg', '36.jpg', '393.jpg', '265.jpg', '322.jpg', '86.jpg', '431.jpg', '392.jpg', '48.jpg', '207.jpg', '2.jpg', '276.jpg', '430.jpg', '181.jpg', '473.jpg', '407.jpg', '106.jpg', '474.jpg', '93.jpg', '496.jpg', '225.jpg', '457.jpg', '60.jpg', '375.jpg', '140.jpg', '289.jpg', '369.jpg', '68.jpg', '67.jpg', '243.jpg', '285.jpg', '267.jpg', '11.jpg', '445.jpg', '498.jpg', '302.jpg', '142.jpg', '201.jpg', '149.jpg', '16.jpg', '80.jpg', '250.jpg', '298.jpg', '216.jpg', '371.jpg', '1.jpg', '246.jpg', '172.jpg', '343.jpg', '90.jpg', '114.jpg', '363.jpg', '9.jpg', '384.jpg']\n"
          ]
        }
      ]
    },
    {
      "cell_type": "code",
      "source": [
        "train_datagen = ImageDataGenerator(\n",
        "        rotation_range=40,\n",
        "        width_shift_range=0.2,\n",
        "        height_shift_range=0.2,\n",
        "        shear_range=0.2,\n",
        "        zoom_range=0.2,\n",
        "        fill_mode='nearest',\n",
        "    validation_split=0.2)"
      ],
      "metadata": {
        "id": "qAqBsWHNik7f"
      },
      "execution_count": 36,
      "outputs": []
    },
    {
      "cell_type": "code",
      "source": [
        "batchSize=64\n",
        "\n",
        "\n",
        "train_generator = train_datagen.flow_from_directory(\n",
        "    train_path,\n",
        "    target_size=(224, 224),\n",
        "    batch_size=batchSize,\n",
        "    subset='training')\n",
        "\n",
        "validation_generator = train_datagen.flow_from_directory(\n",
        "    train_path, # same directory as training data\n",
        "    target_size=(224, 224),\n",
        "    batch_size=batchSize,\n",
        "    subset='validation')\n"
      ],
      "metadata": {
        "colab": {
          "base_uri": "https://localhost:8080/"
        },
        "id": "ot-S-oWgOtLU",
        "outputId": "5e197164-48ef-4b29-fe1a-f8f0c345edf3"
      },
      "execution_count": 37,
      "outputs": [
        {
          "output_type": "stream",
          "name": "stdout",
          "text": [
            "Found 2000 images belonging to 5 classes.\n",
            "Found 500 images belonging to 5 classes.\n"
          ]
        }
      ]
    },
    {
      "cell_type": "markdown",
      "source": [
        "# **Inception v3**"
      ],
      "metadata": {
        "id": "mMdh5pNyaZVm"
      }
    },
    {
      "cell_type": "code",
      "source": [
        "base_model = InceptionV3(weights='imagenet', \n",
        "                                include_top=False, \n",
        "                                input_shape=(224, 224,3))\n",
        "base_model.trainable = False\n",
        "\n",
        "x = base_model.output\n",
        "x = keras.layers.GlobalAveragePooling2D()(x)\n",
        "\n",
        "x = Dropout(0.5)(x)\n",
        "predictions = Dense(5, activation='softmax')(x)\n",
        "model = Model(inputs=base_model.input, outputs=predictions)\n",
        "\n",
        "\n",
        "# model.summary()"
      ],
      "metadata": {
        "colab": {
          "base_uri": "https://localhost:8080/"
        },
        "id": "WA08Uf_dO2v7",
        "outputId": "55ca3af4-c17a-4bf0-a3bc-9e4686726958"
      },
      "execution_count": 38,
      "outputs": [
        {
          "output_type": "stream",
          "name": "stdout",
          "text": [
            "Downloading data from https://storage.googleapis.com/tensorflow/keras-applications/inception_v3/inception_v3_weights_tf_dim_ordering_tf_kernels_notop.h5\n",
            "87916544/87910968 [==============================] - 1s 0us/step\n",
            "87924736/87910968 [==============================] - 1s 0us/step\n"
          ]
        }
      ]
    },
    {
      "cell_type": "code",
      "source": [
        "model.compile(Adam(learning_rate=0.005), loss='categorical_crossentropy', metrics=['accuracy'])"
      ],
      "metadata": {
        "id": "UNDJY7zDQnZE"
      },
      "execution_count": 107,
      "outputs": []
    },
    {
      "cell_type": "code",
      "source": [
        "train_generator.reset()\n",
        "validation_generator.reset()\n",
        "\n",
        "# Fit the model\n",
        "history = model.fit_generator(\n",
        "    train_generator, \n",
        "    validation_data = validation_generator,\n",
        "    epochs = 25,\n",
        "    verbose=1)"
      ],
      "metadata": {
        "id": "u3IE3OY8QskS"
      },
      "execution_count": null,
      "outputs": []
    },
    {
      "cell_type": "code",
      "source": [
        "labels = (train_generator.class_indices)\n",
        "print(labels)"
      ],
      "metadata": {
        "colab": {
          "base_uri": "https://localhost:8080/"
        },
        "id": "sdlfpYcTaVlD",
        "outputId": "951e9a47-6a60-4ffc-a7fd-baf9cfb87046"
      },
      "execution_count": 112,
      "outputs": [
        {
          "output_type": "stream",
          "name": "stdout",
          "text": [
            "{'Centerstack': 0, 'Forward': 1, 'Left_wing_mirror': 2, 'Rearview_mirror': 3, 'Right_wing_mirror': 4}\n"
          ]
        }
      ]
    },
    {
      "cell_type": "code",
      "source": [
        "labels = dict((i,j) for j,i in labels.items())\n",
        "print(labels)"
      ],
      "metadata": {
        "colab": {
          "base_uri": "https://localhost:8080/"
        },
        "id": "CuosB7YmaNHQ",
        "outputId": "2bfed878-8013-4931-a0b0-7667f5d8f1b1"
      },
      "execution_count": 113,
      "outputs": [
        {
          "output_type": "stream",
          "name": "stdout",
          "text": [
            "{0: 'Centerstack', 1: 'Forward', 2: 'Left_wing_mirror', 3: 'Rearview_mirror', 4: 'Right_wing_mirror'}\n"
          ]
        }
      ]
    },
    {
      "cell_type": "code",
      "source": [
        "samp = pd.read_csv('/content/drive/MyDrive/Gaze_dataset/sample_submission.csv')"
      ],
      "metadata": {
        "id": "Uq2MS6qTatps"
      },
      "execution_count": 114,
      "outputs": []
    },
    {
      "cell_type": "code",
      "source": [
        "!ls"
      ],
      "metadata": {
        "colab": {
          "base_uri": "https://localhost:8080/"
        },
        "id": "1HtQvQ05Vlld",
        "outputId": "9bd58bef-61d3-4417-b0c0-279ccaedf569"
      },
      "execution_count": 115,
      "outputs": [
        {
          "output_type": "stream",
          "name": "stdout",
          "text": [
            "final1.csv\t     haarcascade_frontalface_default.xml\n",
            "final2.csv\t     sample_submission.csv\n",
            "final3.csv\t     shape_predictor_68_face_landmarks.dat\n",
            "final4.csv\t     test\n",
            "final.csv\t     test_eye_cropped\n",
            "haarcascade_eye.xml  train\n"
          ]
        }
      ]
    },
    {
      "cell_type": "code",
      "source": [
        "for num,i in enumerate(samp['filename']):\n",
        "  img = cv2.imread('test/'+i)\n",
        "  img = cv2.resize(img, (224,224))\n",
        "  img = img.reshape(-1, 224, 224, 3)\n",
        "  prediction= model.predict(img)\n",
        "  indices = np.argmax(prediction,axis=1)\n",
        "  samp.loc[0, 'class']\n",
        "  final_label = (labels[indices[0]])\n",
        "  print(num,\"  \",i,\"   \",final_label)\n",
        "  samp.loc[num, 'class'] = final_label"
      ],
      "metadata": {
        "colab": {
          "base_uri": "https://localhost:8080/"
        },
        "id": "gEH1XG-PZvd5",
        "outputId": "6f115d60-ed70-4de6-c9f1-a68b692c020e"
      },
      "execution_count": 116,
      "outputs": [
        {
          "output_type": "stream",
          "name": "stdout",
          "text": [
            "0    1.jpg     Forward\n",
            "1    2.jpg     Forward\n",
            "2    3.jpg     Forward\n",
            "3    4.jpg     Forward\n",
            "4    5.jpg     Forward\n",
            "5    6.jpg     Forward\n",
            "6    7.jpg     Forward\n",
            "7    8.jpg     Forward\n",
            "8    9.jpg     Forward\n",
            "9    10.jpg     Forward\n",
            "10    11.jpg     Forward\n",
            "11    12.jpg     Forward\n",
            "12    13.jpg     Forward\n",
            "13    14.jpg     Forward\n",
            "14    15.jpg     Forward\n",
            "15    16.jpg     Forward\n",
            "16    17.jpg     Forward\n",
            "17    18.jpg     Forward\n",
            "18    19.jpg     Forward\n",
            "19    20.jpg     Forward\n",
            "20    21.jpg     Forward\n",
            "21    22.jpg     Forward\n",
            "22    23.jpg     Forward\n",
            "23    24.jpg     Forward\n",
            "24    25.jpg     Forward\n",
            "25    26.jpg     Forward\n",
            "26    27.jpg     Forward\n",
            "27    28.jpg     Forward\n",
            "28    29.jpg     Forward\n",
            "29    30.jpg     Forward\n",
            "30    31.jpg     Forward\n",
            "31    32.jpg     Forward\n",
            "32    33.jpg     Forward\n",
            "33    34.jpg     Forward\n",
            "34    35.jpg     Forward\n",
            "35    36.jpg     Forward\n",
            "36    37.jpg     Forward\n",
            "37    38.jpg     Forward\n",
            "38    39.jpg     Forward\n",
            "39    40.jpg     Forward\n",
            "40    41.jpg     Forward\n",
            "41    42.jpg     Forward\n",
            "42    43.jpg     Forward\n",
            "43    44.jpg     Forward\n",
            "44    45.jpg     Forward\n",
            "45    46.jpg     Forward\n",
            "46    47.jpg     Forward\n",
            "47    48.jpg     Forward\n",
            "48    49.jpg     Forward\n",
            "49    50.jpg     Forward\n",
            "50    51.jpg     Forward\n",
            "51    52.jpg     Forward\n",
            "52    53.jpg     Forward\n",
            "53    54.jpg     Forward\n",
            "54    55.jpg     Forward\n",
            "55    56.jpg     Forward\n",
            "56    57.jpg     Forward\n",
            "57    58.jpg     Forward\n",
            "58    59.jpg     Forward\n",
            "59    60.jpg     Forward\n",
            "60    61.jpg     Forward\n",
            "61    62.jpg     Forward\n",
            "62    63.jpg     Forward\n",
            "63    64.jpg     Forward\n",
            "64    65.jpg     Forward\n",
            "65    66.jpg     Forward\n",
            "66    67.jpg     Forward\n",
            "67    68.jpg     Forward\n",
            "68    69.jpg     Forward\n",
            "69    70.jpg     Forward\n",
            "70    71.jpg     Forward\n",
            "71    72.jpg     Forward\n",
            "72    73.jpg     Forward\n",
            "73    74.jpg     Forward\n",
            "74    75.jpg     Forward\n",
            "75    76.jpg     Forward\n",
            "76    77.jpg     Forward\n",
            "77    78.jpg     Forward\n",
            "78    79.jpg     Forward\n",
            "79    80.jpg     Forward\n",
            "80    81.jpg     Forward\n",
            "81    82.jpg     Forward\n",
            "82    83.jpg     Forward\n",
            "83    84.jpg     Forward\n",
            "84    85.jpg     Forward\n",
            "85    86.jpg     Forward\n",
            "86    87.jpg     Forward\n",
            "87    88.jpg     Forward\n",
            "88    89.jpg     Forward\n",
            "89    90.jpg     Forward\n",
            "90    91.jpg     Forward\n",
            "91    92.jpg     Forward\n",
            "92    93.jpg     Forward\n",
            "93    94.jpg     Forward\n",
            "94    95.jpg     Forward\n",
            "95    96.jpg     Forward\n",
            "96    97.jpg     Forward\n",
            "97    98.jpg     Forward\n",
            "98    99.jpg     Forward\n",
            "99    100.jpg     Forward\n",
            "100    101.jpg     Forward\n",
            "101    102.jpg     Forward\n",
            "102    103.jpg     Forward\n",
            "103    104.jpg     Forward\n",
            "104    105.jpg     Forward\n",
            "105    106.jpg     Forward\n",
            "106    107.jpg     Forward\n",
            "107    108.jpg     Forward\n",
            "108    109.jpg     Forward\n",
            "109    110.jpg     Forward\n",
            "110    111.jpg     Forward\n",
            "111    112.jpg     Forward\n",
            "112    113.jpg     Forward\n",
            "113    114.jpg     Forward\n",
            "114    115.jpg     Forward\n",
            "115    116.jpg     Forward\n",
            "116    117.jpg     Forward\n",
            "117    118.jpg     Forward\n",
            "118    119.jpg     Forward\n",
            "119    120.jpg     Forward\n",
            "120    121.jpg     Forward\n",
            "121    122.jpg     Forward\n",
            "122    123.jpg     Forward\n",
            "123    124.jpg     Forward\n",
            "124    125.jpg     Forward\n",
            "125    126.jpg     Forward\n",
            "126    127.jpg     Forward\n",
            "127    128.jpg     Forward\n",
            "128    129.jpg     Forward\n",
            "129    130.jpg     Forward\n",
            "130    131.jpg     Forward\n",
            "131    132.jpg     Forward\n",
            "132    133.jpg     Forward\n",
            "133    134.jpg     Forward\n",
            "134    135.jpg     Forward\n",
            "135    136.jpg     Forward\n",
            "136    137.jpg     Forward\n",
            "137    138.jpg     Forward\n",
            "138    139.jpg     Forward\n",
            "139    140.jpg     Forward\n",
            "140    141.jpg     Forward\n",
            "141    142.jpg     Forward\n",
            "142    143.jpg     Forward\n",
            "143    144.jpg     Forward\n",
            "144    145.jpg     Forward\n",
            "145    146.jpg     Forward\n",
            "146    147.jpg     Forward\n",
            "147    148.jpg     Forward\n",
            "148    149.jpg     Forward\n",
            "149    150.jpg     Forward\n",
            "150    151.jpg     Forward\n",
            "151    152.jpg     Forward\n",
            "152    153.jpg     Forward\n",
            "153    154.jpg     Forward\n",
            "154    155.jpg     Forward\n",
            "155    156.jpg     Forward\n",
            "156    157.jpg     Forward\n",
            "157    158.jpg     Forward\n",
            "158    159.jpg     Forward\n",
            "159    160.jpg     Forward\n",
            "160    161.jpg     Forward\n",
            "161    162.jpg     Forward\n",
            "162    163.jpg     Forward\n",
            "163    164.jpg     Forward\n",
            "164    165.jpg     Forward\n",
            "165    166.jpg     Forward\n",
            "166    167.jpg     Forward\n",
            "167    168.jpg     Forward\n",
            "168    169.jpg     Forward\n",
            "169    170.jpg     Forward\n",
            "170    171.jpg     Rearview_mirror\n",
            "171    172.jpg     Forward\n",
            "172    173.jpg     Forward\n",
            "173    174.jpg     Forward\n",
            "174    175.jpg     Rearview_mirror\n",
            "175    176.jpg     Forward\n",
            "176    177.jpg     Forward\n",
            "177    178.jpg     Forward\n",
            "178    179.jpg     Forward\n",
            "179    180.jpg     Forward\n",
            "180    181.jpg     Forward\n",
            "181    182.jpg     Forward\n",
            "182    183.jpg     Forward\n",
            "183    184.jpg     Forward\n",
            "184    185.jpg     Forward\n",
            "185    186.jpg     Forward\n",
            "186    187.jpg     Forward\n",
            "187    188.jpg     Forward\n",
            "188    189.jpg     Forward\n",
            "189    190.jpg     Forward\n",
            "190    191.jpg     Forward\n",
            "191    192.jpg     Forward\n",
            "192    193.jpg     Forward\n",
            "193    194.jpg     Forward\n",
            "194    195.jpg     Forward\n",
            "195    196.jpg     Forward\n",
            "196    197.jpg     Forward\n",
            "197    198.jpg     Forward\n",
            "198    199.jpg     Forward\n",
            "199    200.jpg     Forward\n",
            "200    201.jpg     Forward\n",
            "201    202.jpg     Forward\n",
            "202    203.jpg     Forward\n",
            "203    204.jpg     Forward\n",
            "204    205.jpg     Forward\n",
            "205    206.jpg     Forward\n",
            "206    207.jpg     Forward\n",
            "207    208.jpg     Forward\n",
            "208    209.jpg     Forward\n",
            "209    210.jpg     Forward\n",
            "210    211.jpg     Forward\n",
            "211    212.jpg     Forward\n",
            "212    213.jpg     Forward\n",
            "213    214.jpg     Forward\n",
            "214    215.jpg     Forward\n",
            "215    216.jpg     Forward\n",
            "216    217.jpg     Forward\n",
            "217    218.jpg     Forward\n",
            "218    219.jpg     Forward\n",
            "219    220.jpg     Forward\n",
            "220    221.jpg     Forward\n",
            "221    222.jpg     Forward\n",
            "222    223.jpg     Forward\n",
            "223    224.jpg     Forward\n",
            "224    225.jpg     Forward\n",
            "225    226.jpg     Forward\n",
            "226    227.jpg     Forward\n",
            "227    228.jpg     Rearview_mirror\n",
            "228    229.jpg     Forward\n",
            "229    230.jpg     Forward\n",
            "230    231.jpg     Forward\n",
            "231    232.jpg     Forward\n",
            "232    233.jpg     Forward\n",
            "233    234.jpg     Forward\n",
            "234    235.jpg     Forward\n",
            "235    236.jpg     Forward\n",
            "236    237.jpg     Forward\n",
            "237    238.jpg     Forward\n",
            "238    239.jpg     Forward\n",
            "239    240.jpg     Forward\n",
            "240    241.jpg     Forward\n",
            "241    242.jpg     Forward\n",
            "242    243.jpg     Forward\n",
            "243    244.jpg     Forward\n",
            "244    245.jpg     Forward\n",
            "245    246.jpg     Forward\n",
            "246    247.jpg     Forward\n",
            "247    248.jpg     Forward\n",
            "248    249.jpg     Forward\n",
            "249    250.jpg     Forward\n",
            "250    251.jpg     Forward\n",
            "251    252.jpg     Forward\n",
            "252    253.jpg     Forward\n",
            "253    254.jpg     Forward\n",
            "254    255.jpg     Forward\n",
            "255    256.jpg     Forward\n",
            "256    257.jpg     Forward\n",
            "257    258.jpg     Forward\n",
            "258    259.jpg     Forward\n",
            "259    260.jpg     Forward\n",
            "260    261.jpg     Forward\n",
            "261    262.jpg     Forward\n",
            "262    263.jpg     Forward\n",
            "263    264.jpg     Forward\n",
            "264    265.jpg     Forward\n",
            "265    266.jpg     Forward\n",
            "266    267.jpg     Forward\n",
            "267    268.jpg     Forward\n",
            "268    269.jpg     Forward\n",
            "269    270.jpg     Forward\n",
            "270    271.jpg     Forward\n",
            "271    272.jpg     Forward\n",
            "272    273.jpg     Forward\n",
            "273    274.jpg     Forward\n",
            "274    275.jpg     Forward\n",
            "275    276.jpg     Forward\n",
            "276    277.jpg     Forward\n",
            "277    278.jpg     Forward\n",
            "278    279.jpg     Forward\n",
            "279    280.jpg     Forward\n",
            "280    281.jpg     Forward\n",
            "281    282.jpg     Forward\n",
            "282    283.jpg     Forward\n",
            "283    284.jpg     Forward\n",
            "284    285.jpg     Forward\n",
            "285    286.jpg     Forward\n",
            "286    287.jpg     Forward\n",
            "287    288.jpg     Forward\n",
            "288    289.jpg     Forward\n",
            "289    290.jpg     Forward\n",
            "290    291.jpg     Forward\n",
            "291    292.jpg     Forward\n",
            "292    293.jpg     Forward\n",
            "293    294.jpg     Forward\n",
            "294    295.jpg     Forward\n",
            "295    296.jpg     Forward\n",
            "296    297.jpg     Forward\n",
            "297    298.jpg     Forward\n",
            "298    299.jpg     Forward\n",
            "299    300.jpg     Forward\n",
            "300    301.jpg     Forward\n",
            "301    302.jpg     Forward\n",
            "302    303.jpg     Forward\n",
            "303    304.jpg     Forward\n",
            "304    305.jpg     Forward\n",
            "305    306.jpg     Forward\n",
            "306    307.jpg     Forward\n",
            "307    308.jpg     Forward\n",
            "308    309.jpg     Forward\n",
            "309    310.jpg     Forward\n",
            "310    311.jpg     Forward\n",
            "311    312.jpg     Forward\n",
            "312    313.jpg     Forward\n",
            "313    314.jpg     Forward\n",
            "314    315.jpg     Forward\n",
            "315    316.jpg     Forward\n",
            "316    317.jpg     Forward\n",
            "317    318.jpg     Forward\n",
            "318    319.jpg     Forward\n",
            "319    320.jpg     Forward\n",
            "320    321.jpg     Forward\n",
            "321    322.jpg     Forward\n",
            "322    323.jpg     Forward\n",
            "323    324.jpg     Forward\n",
            "324    325.jpg     Forward\n",
            "325    326.jpg     Forward\n",
            "326    327.jpg     Forward\n",
            "327    328.jpg     Forward\n",
            "328    329.jpg     Forward\n",
            "329    330.jpg     Forward\n",
            "330    331.jpg     Forward\n",
            "331    332.jpg     Forward\n",
            "332    333.jpg     Forward\n",
            "333    334.jpg     Forward\n",
            "334    335.jpg     Forward\n",
            "335    336.jpg     Forward\n",
            "336    337.jpg     Forward\n",
            "337    338.jpg     Forward\n",
            "338    339.jpg     Forward\n",
            "339    340.jpg     Forward\n",
            "340    341.jpg     Forward\n",
            "341    342.jpg     Forward\n",
            "342    343.jpg     Forward\n",
            "343    344.jpg     Forward\n",
            "344    345.jpg     Forward\n",
            "345    346.jpg     Forward\n",
            "346    347.jpg     Forward\n",
            "347    348.jpg     Forward\n",
            "348    349.jpg     Forward\n",
            "349    350.jpg     Forward\n",
            "350    351.jpg     Forward\n",
            "351    352.jpg     Forward\n",
            "352    353.jpg     Forward\n",
            "353    354.jpg     Forward\n",
            "354    355.jpg     Forward\n",
            "355    356.jpg     Forward\n",
            "356    357.jpg     Forward\n",
            "357    358.jpg     Forward\n",
            "358    359.jpg     Forward\n",
            "359    360.jpg     Forward\n",
            "360    361.jpg     Forward\n",
            "361    362.jpg     Forward\n",
            "362    363.jpg     Forward\n",
            "363    364.jpg     Forward\n",
            "364    365.jpg     Forward\n",
            "365    366.jpg     Forward\n",
            "366    367.jpg     Forward\n",
            "367    368.jpg     Forward\n",
            "368    369.jpg     Forward\n",
            "369    370.jpg     Forward\n",
            "370    371.jpg     Forward\n",
            "371    372.jpg     Forward\n",
            "372    373.jpg     Forward\n",
            "373    374.jpg     Forward\n",
            "374    375.jpg     Forward\n",
            "375    376.jpg     Forward\n",
            "376    377.jpg     Forward\n",
            "377    378.jpg     Forward\n",
            "378    379.jpg     Forward\n",
            "379    380.jpg     Forward\n",
            "380    381.jpg     Forward\n",
            "381    382.jpg     Forward\n",
            "382    383.jpg     Forward\n",
            "383    384.jpg     Forward\n",
            "384    385.jpg     Forward\n",
            "385    386.jpg     Forward\n",
            "386    387.jpg     Forward\n",
            "387    388.jpg     Forward\n",
            "388    389.jpg     Forward\n",
            "389    390.jpg     Forward\n",
            "390    391.jpg     Forward\n",
            "391    392.jpg     Forward\n",
            "392    393.jpg     Forward\n",
            "393    394.jpg     Forward\n",
            "394    395.jpg     Forward\n",
            "395    396.jpg     Forward\n",
            "396    397.jpg     Forward\n",
            "397    398.jpg     Left_wing_mirror\n",
            "398    399.jpg     Forward\n",
            "399    400.jpg     Forward\n",
            "400    401.jpg     Forward\n",
            "401    402.jpg     Forward\n",
            "402    403.jpg     Forward\n",
            "403    404.jpg     Forward\n",
            "404    405.jpg     Forward\n",
            "405    406.jpg     Forward\n",
            "406    407.jpg     Forward\n",
            "407    408.jpg     Forward\n",
            "408    409.jpg     Forward\n",
            "409    410.jpg     Forward\n",
            "410    411.jpg     Forward\n",
            "411    412.jpg     Forward\n",
            "412    413.jpg     Forward\n",
            "413    414.jpg     Forward\n",
            "414    415.jpg     Forward\n",
            "415    416.jpg     Forward\n",
            "416    417.jpg     Forward\n",
            "417    418.jpg     Forward\n",
            "418    419.jpg     Forward\n",
            "419    420.jpg     Forward\n",
            "420    421.jpg     Forward\n",
            "421    422.jpg     Forward\n",
            "422    423.jpg     Forward\n",
            "423    424.jpg     Forward\n",
            "424    425.jpg     Forward\n",
            "425    426.jpg     Forward\n",
            "426    427.jpg     Forward\n",
            "427    428.jpg     Forward\n",
            "428    429.jpg     Forward\n",
            "429    430.jpg     Forward\n",
            "430    431.jpg     Forward\n",
            "431    432.jpg     Forward\n",
            "432    433.jpg     Forward\n",
            "433    434.jpg     Forward\n",
            "434    435.jpg     Forward\n",
            "435    436.jpg     Left_wing_mirror\n",
            "436    437.jpg     Forward\n",
            "437    438.jpg     Forward\n",
            "438    439.jpg     Forward\n",
            "439    440.jpg     Rearview_mirror\n",
            "440    441.jpg     Forward\n",
            "441    442.jpg     Forward\n",
            "442    443.jpg     Forward\n",
            "443    444.jpg     Forward\n",
            "444    445.jpg     Forward\n",
            "445    446.jpg     Forward\n",
            "446    447.jpg     Forward\n",
            "447    448.jpg     Forward\n",
            "448    449.jpg     Forward\n",
            "449    450.jpg     Forward\n",
            "450    451.jpg     Forward\n",
            "451    452.jpg     Forward\n",
            "452    453.jpg     Forward\n",
            "453    454.jpg     Forward\n",
            "454    455.jpg     Forward\n",
            "455    456.jpg     Forward\n",
            "456    457.jpg     Forward\n",
            "457    458.jpg     Forward\n",
            "458    459.jpg     Forward\n",
            "459    460.jpg     Forward\n",
            "460    461.jpg     Forward\n",
            "461    462.jpg     Forward\n",
            "462    463.jpg     Forward\n",
            "463    464.jpg     Forward\n",
            "464    465.jpg     Forward\n",
            "465    466.jpg     Forward\n",
            "466    467.jpg     Forward\n",
            "467    468.jpg     Forward\n",
            "468    469.jpg     Forward\n",
            "469    470.jpg     Forward\n",
            "470    471.jpg     Forward\n",
            "471    472.jpg     Forward\n",
            "472    473.jpg     Forward\n",
            "473    474.jpg     Forward\n",
            "474    475.jpg     Forward\n",
            "475    476.jpg     Forward\n",
            "476    477.jpg     Forward\n",
            "477    478.jpg     Forward\n",
            "478    479.jpg     Forward\n",
            "479    480.jpg     Forward\n",
            "480    481.jpg     Forward\n",
            "481    482.jpg     Forward\n",
            "482    483.jpg     Forward\n",
            "483    484.jpg     Forward\n",
            "484    485.jpg     Forward\n",
            "485    486.jpg     Forward\n",
            "486    487.jpg     Forward\n",
            "487    488.jpg     Forward\n",
            "488    489.jpg     Forward\n",
            "489    490.jpg     Forward\n",
            "490    491.jpg     Forward\n",
            "491    492.jpg     Forward\n",
            "492    493.jpg     Forward\n",
            "493    494.jpg     Forward\n",
            "494    495.jpg     Forward\n",
            "495    496.jpg     Forward\n",
            "496    497.jpg     Forward\n",
            "497    498.jpg     Forward\n",
            "498    499.jpg     Forward\n",
            "499    500.jpg     Forward\n",
            "500    501.jpg     Forward\n",
            "501    502.jpg     Forward\n",
            "502    503.jpg     Forward\n",
            "503    504.jpg     Forward\n",
            "504    505.jpg     Forward\n",
            "505    506.jpg     Forward\n",
            "506    507.jpg     Forward\n",
            "507    508.jpg     Forward\n",
            "508    509.jpg     Forward\n"
          ]
        }
      ]
    },
    {
      "cell_type": "code",
      "source": [
        "samp"
      ],
      "metadata": {
        "id": "Exp7XUsPmFeC",
        "outputId": "2c6c859d-455e-40e3-bfd4-dd2115f15a84",
        "colab": {
          "base_uri": "https://localhost:8080/",
          "height": 423
        }
      },
      "execution_count": 103,
      "outputs": [
        {
          "output_type": "execute_result",
          "data": {
            "text/plain": [
              "    filename             class\n",
              "0      1.jpg  Left_wing_mirror\n",
              "1      2.jpg  Left_wing_mirror\n",
              "2      3.jpg  Left_wing_mirror\n",
              "3      4.jpg  Left_wing_mirror\n",
              "4      5.jpg  Left_wing_mirror\n",
              "..       ...               ...\n",
              "504  505.jpg  Left_wing_mirror\n",
              "505  506.jpg  Left_wing_mirror\n",
              "506  507.jpg  Left_wing_mirror\n",
              "507  508.jpg  Left_wing_mirror\n",
              "508  509.jpg  Left_wing_mirror\n",
              "\n",
              "[509 rows x 2 columns]"
            ],
            "text/html": [
              "\n",
              "  <div id=\"df-2f8a94e1-4648-4edf-b7ea-6f70c343777d\">\n",
              "    <div class=\"colab-df-container\">\n",
              "      <div>\n",
              "<style scoped>\n",
              "    .dataframe tbody tr th:only-of-type {\n",
              "        vertical-align: middle;\n",
              "    }\n",
              "\n",
              "    .dataframe tbody tr th {\n",
              "        vertical-align: top;\n",
              "    }\n",
              "\n",
              "    .dataframe thead th {\n",
              "        text-align: right;\n",
              "    }\n",
              "</style>\n",
              "<table border=\"1\" class=\"dataframe\">\n",
              "  <thead>\n",
              "    <tr style=\"text-align: right;\">\n",
              "      <th></th>\n",
              "      <th>filename</th>\n",
              "      <th>class</th>\n",
              "    </tr>\n",
              "  </thead>\n",
              "  <tbody>\n",
              "    <tr>\n",
              "      <th>0</th>\n",
              "      <td>1.jpg</td>\n",
              "      <td>Left_wing_mirror</td>\n",
              "    </tr>\n",
              "    <tr>\n",
              "      <th>1</th>\n",
              "      <td>2.jpg</td>\n",
              "      <td>Left_wing_mirror</td>\n",
              "    </tr>\n",
              "    <tr>\n",
              "      <th>2</th>\n",
              "      <td>3.jpg</td>\n",
              "      <td>Left_wing_mirror</td>\n",
              "    </tr>\n",
              "    <tr>\n",
              "      <th>3</th>\n",
              "      <td>4.jpg</td>\n",
              "      <td>Left_wing_mirror</td>\n",
              "    </tr>\n",
              "    <tr>\n",
              "      <th>4</th>\n",
              "      <td>5.jpg</td>\n",
              "      <td>Left_wing_mirror</td>\n",
              "    </tr>\n",
              "    <tr>\n",
              "      <th>...</th>\n",
              "      <td>...</td>\n",
              "      <td>...</td>\n",
              "    </tr>\n",
              "    <tr>\n",
              "      <th>504</th>\n",
              "      <td>505.jpg</td>\n",
              "      <td>Left_wing_mirror</td>\n",
              "    </tr>\n",
              "    <tr>\n",
              "      <th>505</th>\n",
              "      <td>506.jpg</td>\n",
              "      <td>Left_wing_mirror</td>\n",
              "    </tr>\n",
              "    <tr>\n",
              "      <th>506</th>\n",
              "      <td>507.jpg</td>\n",
              "      <td>Left_wing_mirror</td>\n",
              "    </tr>\n",
              "    <tr>\n",
              "      <th>507</th>\n",
              "      <td>508.jpg</td>\n",
              "      <td>Left_wing_mirror</td>\n",
              "    </tr>\n",
              "    <tr>\n",
              "      <th>508</th>\n",
              "      <td>509.jpg</td>\n",
              "      <td>Left_wing_mirror</td>\n",
              "    </tr>\n",
              "  </tbody>\n",
              "</table>\n",
              "<p>509 rows × 2 columns</p>\n",
              "</div>\n",
              "      <button class=\"colab-df-convert\" onclick=\"convertToInteractive('df-2f8a94e1-4648-4edf-b7ea-6f70c343777d')\"\n",
              "              title=\"Convert this dataframe to an interactive table.\"\n",
              "              style=\"display:none;\">\n",
              "        \n",
              "  <svg xmlns=\"http://www.w3.org/2000/svg\" height=\"24px\"viewBox=\"0 0 24 24\"\n",
              "       width=\"24px\">\n",
              "    <path d=\"M0 0h24v24H0V0z\" fill=\"none\"/>\n",
              "    <path d=\"M18.56 5.44l.94 2.06.94-2.06 2.06-.94-2.06-.94-.94-2.06-.94 2.06-2.06.94zm-11 1L8.5 8.5l.94-2.06 2.06-.94-2.06-.94L8.5 2.5l-.94 2.06-2.06.94zm10 10l.94 2.06.94-2.06 2.06-.94-2.06-.94-.94-2.06-.94 2.06-2.06.94z\"/><path d=\"M17.41 7.96l-1.37-1.37c-.4-.4-.92-.59-1.43-.59-.52 0-1.04.2-1.43.59L10.3 9.45l-7.72 7.72c-.78.78-.78 2.05 0 2.83L4 21.41c.39.39.9.59 1.41.59.51 0 1.02-.2 1.41-.59l7.78-7.78 2.81-2.81c.8-.78.8-2.07 0-2.86zM5.41 20L4 18.59l7.72-7.72 1.47 1.35L5.41 20z\"/>\n",
              "  </svg>\n",
              "      </button>\n",
              "      \n",
              "  <style>\n",
              "    .colab-df-container {\n",
              "      display:flex;\n",
              "      flex-wrap:wrap;\n",
              "      gap: 12px;\n",
              "    }\n",
              "\n",
              "    .colab-df-convert {\n",
              "      background-color: #E8F0FE;\n",
              "      border: none;\n",
              "      border-radius: 50%;\n",
              "      cursor: pointer;\n",
              "      display: none;\n",
              "      fill: #1967D2;\n",
              "      height: 32px;\n",
              "      padding: 0 0 0 0;\n",
              "      width: 32px;\n",
              "    }\n",
              "\n",
              "    .colab-df-convert:hover {\n",
              "      background-color: #E2EBFA;\n",
              "      box-shadow: 0px 1px 2px rgba(60, 64, 67, 0.3), 0px 1px 3px 1px rgba(60, 64, 67, 0.15);\n",
              "      fill: #174EA6;\n",
              "    }\n",
              "\n",
              "    [theme=dark] .colab-df-convert {\n",
              "      background-color: #3B4455;\n",
              "      fill: #D2E3FC;\n",
              "    }\n",
              "\n",
              "    [theme=dark] .colab-df-convert:hover {\n",
              "      background-color: #434B5C;\n",
              "      box-shadow: 0px 1px 3px 1px rgba(0, 0, 0, 0.15);\n",
              "      filter: drop-shadow(0px 1px 2px rgba(0, 0, 0, 0.3));\n",
              "      fill: #FFFFFF;\n",
              "    }\n",
              "  </style>\n",
              "\n",
              "      <script>\n",
              "        const buttonEl =\n",
              "          document.querySelector('#df-2f8a94e1-4648-4edf-b7ea-6f70c343777d button.colab-df-convert');\n",
              "        buttonEl.style.display =\n",
              "          google.colab.kernel.accessAllowed ? 'block' : 'none';\n",
              "\n",
              "        async function convertToInteractive(key) {\n",
              "          const element = document.querySelector('#df-2f8a94e1-4648-4edf-b7ea-6f70c343777d');\n",
              "          const dataTable =\n",
              "            await google.colab.kernel.invokeFunction('convertToInteractive',\n",
              "                                                     [key], {});\n",
              "          if (!dataTable) return;\n",
              "\n",
              "          const docLinkHtml = 'Like what you see? Visit the ' +\n",
              "            '<a target=\"_blank\" href=https://colab.research.google.com/notebooks/data_table.ipynb>data table notebook</a>'\n",
              "            + ' to learn more about interactive tables.';\n",
              "          element.innerHTML = '';\n",
              "          dataTable['output_type'] = 'display_data';\n",
              "          await google.colab.output.renderOutput(dataTable, element);\n",
              "          const docLink = document.createElement('div');\n",
              "          docLink.innerHTML = docLinkHtml;\n",
              "          element.appendChild(docLink);\n",
              "        }\n",
              "      </script>\n",
              "    </div>\n",
              "  </div>\n",
              "  "
            ]
          },
          "metadata": {},
          "execution_count": 103
        }
      ]
    },
    {
      "cell_type": "code",
      "source": [
        "samp.reset_index(drop=True).to_csv(\"final4.csv\")"
      ],
      "metadata": {
        "id": "kdLsxptmnJF4"
      },
      "execution_count": 104,
      "outputs": []
    }
  ]
}